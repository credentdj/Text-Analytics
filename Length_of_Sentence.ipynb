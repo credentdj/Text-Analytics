{
 "cells": [
  {
   "cell_type": "code",
   "execution_count": 1,
   "metadata": {
    "collapsed": true
   },
   "outputs": [],
   "source": [
    "import sys\n",
    "import json\n",
    "import re\n",
    "import string\n",
    "import nltk\n",
    "import uuid\n",
    "import glob"
   ]
  },
  {
   "cell_type": "code",
   "execution_count": 69,
   "metadata": {
    "collapsed": true
   },
   "outputs": [],
   "source": [
    "files = glob.glob('C:\\Users\\yxiao\\Desktop\\Low_Output2\\*.json')"
   ]
  },
  {
   "cell_type": "code",
   "execution_count": 53,
   "metadata": {
    "collapsed": false
   },
   "outputs": [
    {
     "data": {
      "text/plain": [
       "101"
      ]
     },
     "execution_count": 53,
     "metadata": {},
     "output_type": "execute_result"
    }
   ],
   "source": [
    "len(files)"
   ]
  },
  {
   "cell_type": "code",
   "execution_count": 60,
   "metadata": {
    "collapsed": false
   },
   "outputs": [],
   "source": [
    "passage = json.load(open(files[0]))"
   ]
  },
  {
   "cell_type": "code",
   "execution_count": 61,
   "metadata": {
    "collapsed": false
   },
   "outputs": [
    {
     "data": {
      "text/plain": [
       "u'The Savage Detectives Cover Unknown This page intentionally left blank THE SAVAGE DETECTIVES This page intentionally left blank THE SAVAGE DETECTIVES ROBERTO BOLAO TRANSLATED FROM THE SPANISH BY NATASHA WIMMER Farrar, Straus and Giroux 19 Union Square West, New York 10003 Copyright 1998 by Roberto Bolao Translation copyright 2007 by Natasha Wimmer All rights reserved Distributed in Canada by Douglas & McIntyre Ltd.'"
      ]
     },
     "execution_count": 61,
     "metadata": {},
     "output_type": "execute_result"
    }
   ],
   "source": [
    "passage[0][\"sentence\"]"
   ]
  },
  {
   "cell_type": "code",
   "execution_count": 62,
   "metadata": {
    "collapsed": false
   },
   "outputs": [
    {
     "data": {
      "text/plain": [
       "356"
      ]
     },
     "execution_count": 62,
     "metadata": {},
     "output_type": "execute_result"
    }
   ],
   "source": [
    "len(passage[0][\"sentence\"].replace(\" \", \"\"))"
   ]
  },
  {
   "cell_type": "code",
   "execution_count": 63,
   "metadata": {
    "collapsed": false
   },
   "outputs": [
    {
     "data": {
      "text/plain": [
       "12577"
      ]
     },
     "execution_count": 63,
     "metadata": {},
     "output_type": "execute_result"
    }
   ],
   "source": [
    "len(passage)"
   ]
  },
  {
   "cell_type": "code",
   "execution_count": 64,
   "metadata": {
    "collapsed": true
   },
   "outputs": [],
   "source": [
    "sum_length = 0"
   ]
  },
  {
   "cell_type": "code",
   "execution_count": 65,
   "metadata": {
    "collapsed": false,
    "scrolled": true
   },
   "outputs": [
    {
     "name": "stdout",
     "output_type": "stream",
     "text": [
      "83\n"
     ]
    }
   ],
   "source": [
    "for sentence in passage:\n",
    "    length = len(sentence[\"sentence\"].replace(\" \", \"\"))\n",
    "    sum_length = sum_length + length\n",
    "print(sum_length/len(passage))"
   ]
  },
  {
   "cell_type": "code",
   "execution_count": 71,
   "metadata": {
    "collapsed": false,
    "scrolled": false
   },
   "outputs": [
    {
     "name": "stdout",
     "output_type": "stream",
     "text": [
      "101\n",
      "78\n",
      "78\n",
      "67\n",
      "94\n",
      "71\n",
      "88\n",
      "77\n",
      "86\n",
      "58\n",
      "58\n",
      "74\n",
      "76\n",
      "77\n",
      "86\n",
      "57\n",
      "76\n",
      "82\n",
      "70\n",
      "83\n",
      "79\n",
      "93\n",
      "70\n",
      "74\n",
      "86\n",
      "59\n",
      "95\n",
      "83\n",
      "70\n",
      "64\n",
      "77\n",
      "85\n",
      "57\n",
      "73\n",
      "59\n",
      "105\n",
      "71\n",
      "69\n",
      "86\n",
      "98\n",
      "89\n",
      "73\n",
      "78\n",
      "74\n",
      "74\n",
      "73\n",
      "89\n",
      "76\n",
      "69\n",
      "82\n",
      "62\n",
      "64\n",
      "62\n",
      "74\n",
      "85\n",
      "57\n",
      "91\n",
      "63\n",
      "73\n",
      "108\n",
      "78\n",
      "77\n",
      "66\n",
      "74\n",
      "65\n",
      "83\n",
      "63\n",
      "79\n",
      "62\n",
      "60\n",
      "56\n",
      "126\n",
      "88\n",
      "62\n",
      "61\n",
      "79\n",
      "82\n",
      "75\n",
      "81\n",
      "76\n",
      "72\n",
      "66\n",
      "79\n",
      "123\n",
      "89\n",
      "98\n",
      "56\n",
      "79\n",
      "82\n",
      "85\n",
      "84\n",
      "85\n",
      "76\n",
      "82\n",
      "97\n",
      "78\n",
      "67\n",
      "69\n",
      "102\n",
      "120\n",
      "79\n"
     ]
    }
   ],
   "source": [
    "for passage in files:\n",
    "    content = json.load(open(passage))\n",
    "    sum_length = 0\n",
    "    for sentence in content:\n",
    "        length = len(sentence[\"sentence\"])\n",
    "        sum_length = sum_length + length\n",
    "    print (sum_length/len(content))\n",
    "    #print(sum_length/len(passage))"
   ]
  },
  {
   "cell_type": "code",
   "execution_count": null,
   "metadata": {
    "collapsed": true
   },
   "outputs": [],
   "source": []
  }
 ],
 "metadata": {
  "kernelspec": {
   "display_name": "Python 2",
   "language": "python",
   "name": "python2"
  },
  "language_info": {
   "codemirror_mode": {
    "name": "ipython",
    "version": 2
   },
   "file_extension": ".py",
   "mimetype": "text/x-python",
   "name": "python",
   "nbconvert_exporter": "python",
   "pygments_lexer": "ipython2",
   "version": "2.7.13"
  }
 },
 "nbformat": 4,
 "nbformat_minor": 2
}
