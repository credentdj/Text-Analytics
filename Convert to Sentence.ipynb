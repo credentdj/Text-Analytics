{
 "cells": [
  {
   "cell_type": "code",
   "execution_count": 3,
   "metadata": {
    "collapsed": true
   },
   "outputs": [],
   "source": [
    "import json\n",
    "import re\n",
    "import string\n",
    "import nltk\n",
    "import uuid\n",
    "import glob\n",
    "\n",
    "files = glob.glob('C:\\Users\\yxiao\\Desktop\\New2\\*.txt')\n",
    "\n",
    "for name in files:\n",
    "    passage = open(name,'r').read()\n",
    "    passage =''.join(filter(lambda x: x in string.printable, passage.replace('\\n',' ')))\n",
    "\n",
    "    content_pattern = re.compile(\"[0-9]+\\.$\")\n",
    "    sentences = list()\n",
    "    for sen in nltk.sent_tokenize(passage): \n",
    "        sen = ' '.join(sen.split())\n",
    "        if not content_pattern.search(sen) and len(sen)>25: \n",
    "            sentences.append(sen)      \n",
    "        \n",
    "    sentence_id = [(uuid.uuid4().hex[:10],i) for i in sentences]        \n",
    "\n",
    "    sentence_dic = [dict(map(None,['sentence_id,','sentence'],list(sent))) for sent in sentence_id]\n",
    "\n",
    "\n",
    "    output_name = name + 'output.json'\n",
    "    with open(output_name, 'w') as f:\n",
    "        json.dump(sentence_dic,f,sort_keys = True, indent= 4)"
   ]
  },
  {
   "cell_type": "code",
   "execution_count": null,
   "metadata": {
    "collapsed": true
   },
   "outputs": [],
   "source": []
  }
 ],
 "metadata": {
  "kernelspec": {
   "display_name": "Python 2",
   "language": "python",
   "name": "python2"
  },
  "language_info": {
   "codemirror_mode": {
    "name": "ipython",
    "version": 2
   },
   "file_extension": ".py",
   "mimetype": "text/x-python",
   "name": "python",
   "nbconvert_exporter": "python",
   "pygments_lexer": "ipython2",
   "version": "2.7.13"
  }
 },
 "nbformat": 4,
 "nbformat_minor": 2
}
