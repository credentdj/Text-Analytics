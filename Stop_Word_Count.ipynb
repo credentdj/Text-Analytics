{
 "cells": [
  {
   "cell_type": "code",
   "execution_count": 28,
   "metadata": {
    "collapsed": true
   },
   "outputs": [],
   "source": [
    "import nltk\n",
    "from nltk import FreqDist\n",
    "import sys\n",
    "import json\n",
    "import re\n",
    "import string\n",
    "import nltk\n",
    "import uuid\n",
    "import glob\n",
    "import numpy\n",
    "from numpy import mean, ptp, var, std, median\n",
    "from scipy.stats import mode\n",
    "from nltk.corpus import stopwords"
   ]
  },
  {
   "cell_type": "code",
   "execution_count": 29,
   "metadata": {
    "collapsed": true
   },
   "outputs": [],
   "source": [
    "files = glob.glob('C:\\Users\\yxiao\\Desktop\\Low_Output2\\*.json')"
   ]
  },
  {
   "cell_type": "code",
   "execution_count": 30,
   "metadata": {
    "collapsed": false
   },
   "outputs": [],
   "source": [
    "# stopwords = stopwords.words('english') #use the NLTK stopwords"
   ]
  },
  {
   "cell_type": "code",
   "execution_count": 31,
   "metadata": {
    "collapsed": false
   },
   "outputs": [
    {
     "name": "stdout",
     "output_type": "stream",
     "text": [
      "0.871995952441\n",
      "0.697529241687\n",
      "0.894103489771\n",
      "1.03160394593\n",
      "0.904877592973\n",
      "0.947359060999\n",
      "0.831964285714\n",
      "1.01865369019\n",
      "0.692707487413\n",
      "0.691444810051\n",
      "0.702776025237\n",
      "0.768894601542\n",
      "1.02298005331\n",
      "0.955316742081\n",
      "0.549748020158\n",
      "0.858951667801\n",
      "0.900105152471\n",
      "0.620927936821\n",
      "0.902526002972\n",
      "0.868374334263\n",
      "1.22270227808\n",
      "0.725710277096\n",
      "0.856218813528\n",
      "1.15559960357\n",
      "0.54473074696\n",
      "1.24742014742\n",
      "0.873746506658\n",
      "0.729923400049\n",
      "1.27886440538\n",
      "0.814459277036\n",
      "1.03319977104\n",
      "0.689846416382\n",
      "0.866949479368\n",
      "0.6203783319\n",
      "1.23579201935\n",
      "0.819688942061\n",
      "0.79245049505\n",
      "0.997863573936\n",
      "1.1059302852\n",
      "0.932087781732\n",
      "0.783215621105\n",
      "0.882070548946\n",
      "0.988203872691\n",
      "0.727674750357\n",
      "0.844518040788\n",
      "0.96086605702\n",
      "0.941294964029\n",
      "0.860074165637\n",
      "0.925682261209\n",
      "0.820811791882\n",
      "0.608958681941\n",
      "0.820811791882\n",
      "0.882786495483\n",
      "0.963392588129\n",
      "0.764814175584\n",
      "0.980109541655\n",
      "0.615111213025\n",
      "0.70767691923\n",
      "1.25926644673\n",
      "0.739356457829\n",
      "1.01619433198\n",
      "0.68782785569\n",
      "0.838073536445\n",
      "0.584426400167\n",
      "0.932007174303\n",
      "0.72417739628\n",
      "0.851788240048\n",
      "0.652258784161\n",
      "0.571428571429\n",
      "0.576367389061\n",
      "1.74810837198\n",
      "1.03626943005\n",
      "0.707865168539\n",
      "0.637931034483\n",
      "0.978047520661\n",
      "0.828015952144\n",
      "0.790653231411\n",
      "0.941801385681\n",
      "0.806888833623\n",
      "0.749011857708\n",
      "0.68747635263\n",
      "0.955350434689\n",
      "1.43617021277\n",
      "0.94546899841\n",
      "1.44060266564\n",
      "0.622369212267\n",
      "0.847003929273\n",
      "0.79295958279\n",
      "0.891712999735\n",
      "0.864220612293\n",
      "0.86409480585\n",
      "0.831530494822\n",
      "0.980637813212\n",
      "1.13375365909\n",
      "0.770724029381\n",
      "1.72866473149\n",
      "0.935785635009\n",
      "1.0942467295\n",
      "1.99281129653\n",
      "0.818073010174\n"
     ]
    }
   ],
   "source": [
    "for passage in files: \n",
    "    raw = json.load(open(passage))\n",
    "    sen_word_len = []\n",
    "    sen_num_stopwords = []\n",
    "    sen_num_POS = []\n",
    "    for sentence in raw:\n",
    "        sentence_raw = sentence[\"sentence\"]\n",
    "        tokens = nltk.word_tokenize(sentence_raw)\n",
    "        \n",
    "#         #count the length\n",
    "#         word_num = len(tokens)-1\n",
    "#         sen_word_len.append(word_num)\n",
    "        \n",
    "#         #count the stopwords\n",
    "#         num_stopwords = 0\n",
    "#         for word in tokens:\n",
    "#             if word in stopwords:\n",
    "#                 num_stopwords = num_stopwords + 1\n",
    "#         sen_num_stopwords.append(num_stopwords)\n",
    "        \n",
    "        #count the POS\n",
    "        POS_tags = nltk.pos_tag(tokens) #use unprocessed 'tokens', not 'words'\n",
    "        #Generate a list of POS tags\n",
    "        POS_tag_list = [(word,tag) for (word,tag) in POS_tags if tag.startswith('J')]\n",
    "        num_POS = len(POS_tag_list)\n",
    "        sen_num_POS.append(num_POS)\n",
    "        \n",
    "    Mean = mean(sen_num_POS)\n",
    "#     Variance = var(sen_num_stopwords)\n",
    "#     Standard = std(sen_num_stopwords)\n",
    "#     Median = median(sen_num_stopwords)\n",
    "#     Mode = mode(sen_num_stopwords)\n",
    "\n",
    "    print Mean"
   ]
  },
  {
   "cell_type": "code",
   "execution_count": null,
   "metadata": {
    "collapsed": true
   },
   "outputs": [],
   "source": []
  }
 ],
 "metadata": {
  "kernelspec": {
   "display_name": "Python 2",
   "language": "python",
   "name": "python2"
  },
  "language_info": {
   "codemirror_mode": {
    "name": "ipython",
    "version": 2
   },
   "file_extension": ".py",
   "mimetype": "text/x-python",
   "name": "python",
   "nbconvert_exporter": "python",
   "pygments_lexer": "ipython2",
   "version": "2.7.13"
  }
 },
 "nbformat": 4,
 "nbformat_minor": 2
}
