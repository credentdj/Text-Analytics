{
 "cells": [
  {
   "cell_type": "code",
   "execution_count": 54,
   "metadata": {
    "collapsed": true
   },
   "outputs": [],
   "source": [
    "import sys\n",
    "import json\n",
    "import re\n",
    "import string\n",
    "import nltk\n",
    "import uuid\n",
    "import glob\n",
    "import nltk\n",
    "from nltk import FreqDist\n",
    "from nltk.corpus import stopwords"
   ]
  },
  {
   "cell_type": "code",
   "execution_count": 55,
   "metadata": {
    "collapsed": true
   },
   "outputs": [],
   "source": [
    "files = glob.glob('C:\\Users\\yxiao\\Documents\\Text Analytics\\Total\\*.txt')"
   ]
  },
  {
   "cell_type": "code",
   "execution_count": 56,
   "metadata": {
    "collapsed": false
   },
   "outputs": [
    {
     "data": {
      "text/plain": [
       "200"
      ]
     },
     "execution_count": 56,
     "metadata": {},
     "output_type": "execute_result"
    }
   ],
   "source": [
    "len(files)"
   ]
  },
  {
   "cell_type": "code",
   "execution_count": 57,
   "metadata": {
    "collapsed": true
   },
   "outputs": [],
   "source": [
    "def get_word_set(passage):\n",
    "    raw = open(passage).read()\n",
    "    raw = raw.replace('\\n',' ') \n",
    "    raw = raw.decode('utf8')\n",
    "    tokens = nltk.word_tokenize(raw)\n",
    "    words1 = [w.lower() for w in tokens]   \n",
    "    words2 = [w for w in words1 if w.isalpha()]\n",
    "    stopwords_list = stopwords.words('english')\n",
    "    words_nostopwords = [w.encode('utf8') for w in words2 if w not in stopwords_list]\n",
    "    #generate a frequency dictionary for all tokens \n",
    "    freq = FreqDist(words_nostopwords)\n",
    "    #sort the frequency list in descending order\n",
    "    sorted_freq = sorted(freq.items(),key = lambda k:k[1], reverse = True)\n",
    "    a = set()\n",
    "    for i in range(len(sorted_freq)):\n",
    "        word = sorted_freq[i][0]\n",
    "        a.add(word)\n",
    "    return a"
   ]
  },
  {
   "cell_type": "code",
   "execution_count": 58,
   "metadata": {
    "collapsed": true
   },
   "outputs": [],
   "source": [
    "def fine_net_set(num):\n",
    "    set_net = get_word_set(files[num]) \n",
    "    for j in range(len(files)):\n",
    "        if set_net:\n",
    "            if j == num:\n",
    "                continue\n",
    "            else:\n",
    "                set_next = get_word_set(files[j])\n",
    "                set_net = set_net - set_next\n",
    "        else:\n",
    "            break\n",
    "    return set_net"
   ]
  },
  {
   "cell_type": "code",
   "execution_count": null,
   "metadata": {
    "collapsed": false
   },
   "outputs": [
    {
     "name": "stdout",
     "output_type": "stream",
     "text": [
      "290\n",
      "67\n",
      "212\n",
      "199\n",
      "127\n",
      "419\n"
     ]
    }
   ],
   "source": [
    "for i in range(200):\n",
    "    netset = fine_net_set(i) \n",
    "    print len(netset)"
   ]
  }
 ],
 "metadata": {
  "kernelspec": {
   "display_name": "Python 2",
   "language": "python",
   "name": "python2"
  },
  "language_info": {
   "codemirror_mode": {
    "name": "ipython",
    "version": 2
   },
   "file_extension": ".py",
   "mimetype": "text/x-python",
   "name": "python",
   "nbconvert_exporter": "python",
   "pygments_lexer": "ipython2",
   "version": "2.7.13"
  }
 },
 "nbformat": 4,
 "nbformat_minor": 2
}
