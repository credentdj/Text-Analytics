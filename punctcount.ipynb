{
 "cells": [
  {
   "cell_type": "code",
   "execution_count": 1,
   "metadata": {
    "collapsed": true
   },
   "outputs": [],
   "source": [
    "from string import punctuation\n",
    "from collections import Counter\n",
    "import nltk\n",
    "from nltk import FreqDist\n",
    "import sys\n",
    "import json\n",
    "import re\n",
    "import string\n",
    "import nltk\n",
    "import uuid\n",
    "import glob\n",
    "import numpy\n",
    "from numpy import mean, ptp, var, std, median\n",
    "from scipy.stats import mode\n",
    "from nltk.corpus import stopwords"
   ]
  },
  {
   "cell_type": "code",
   "execution_count": 48,
   "metadata": {
    "collapsed": true
   },
   "outputs": [],
   "source": [
    "files = glob.glob('C:\\Users\\yxiao\\Desktop\\Low\\*.txt')"
   ]
  },
  {
   "cell_type": "code",
   "execution_count": 49,
   "metadata": {
    "collapsed": false
   },
   "outputs": [
    {
     "name": "stdout",
     "output_type": "stream",
     "text": [
      "13\n",
      "426\n",
      "71\n",
      "166\n",
      "52\n",
      "101\n",
      "163\n",
      "55\n",
      "139\n",
      "15\n",
      "167\n",
      "1239\n",
      "144\n",
      "46\n",
      "30\n",
      "27\n",
      "86\n",
      "23\n",
      "75\n",
      "69\n",
      "406\n",
      "26\n",
      "106\n",
      "145\n",
      "17\n",
      "296\n",
      "26\n",
      "468\n",
      "674\n",
      "96\n",
      "129\n",
      "296\n",
      "133\n",
      "21\n",
      "137\n",
      "335\n",
      "66\n",
      "243\n",
      "251\n",
      "294\n",
      "371\n",
      "68\n",
      "268\n",
      "21\n",
      "356\n",
      "200\n",
      "20\n",
      "112\n",
      "12\n",
      "69\n",
      "18\n",
      "69\n",
      "159\n",
      "271\n",
      "86\n",
      "36\n",
      "24\n",
      "74\n",
      "551\n",
      "325\n",
      "37\n",
      "302\n",
      "115\n",
      "209\n",
      "142\n",
      "18\n",
      "110\n",
      "17\n",
      "336\n",
      "9\n",
      "316\n",
      "78\n",
      "12\n",
      "6\n",
      "28\n",
      "54\n",
      "920\n",
      "132\n",
      "86\n",
      "64\n",
      "91\n",
      "76\n",
      "419\n",
      "16\n",
      "193\n",
      "180\n",
      "85\n",
      "90\n",
      "67\n",
      "60\n",
      "62\n",
      "58\n",
      "87\n",
      "256\n",
      "150\n",
      "141\n",
      "345\n",
      "155\n",
      "1676\n",
      "275\n"
     ]
    }
   ],
   "source": [
    "for passage in files:\n",
    "    counts = Counter(open(passage).read())\n",
    "    punctuation_counts = {k:v for k, v in counts.items() if k in punctuation}\n",
    "    if punctuation_counts[\"!\"] is None:\n",
    "        a = 0\n",
    "    else:\n",
    "        a = punctuation_counts[\":\"]\n",
    "    print a "
   ]
  },
  {
   "cell_type": "code",
   "execution_count": 50,
   "metadata": {
    "collapsed": false
   },
   "outputs": [
    {
     "data": {
      "text/plain": [
       "{'!': 65,\n",
       " '$': 1,\n",
       " '&': 9,\n",
       " '(': 11,\n",
       " ')': 11,\n",
       " ',': 5234,\n",
       " '-': 527,\n",
       " '.': 9444,\n",
       " '/': 2,\n",
       " ':': 30,\n",
       " '?': 1692}"
      ]
     },
     "execution_count": 50,
     "metadata": {},
     "output_type": "execute_result"
    }
   ],
   "source": [
    "counts = Counter(open(files[14]).read())\n",
    "punctuation_counts = {k:v for k, v in counts.items() if k in punctuation}\n",
    "punctuation_counts\n"
   ]
  },
  {
   "cell_type": "code",
   "execution_count": 27,
   "metadata": {
    "collapsed": false
   },
   "outputs": [
    {
     "ename": "KeyError",
     "evalue": "'!'",
     "output_type": "error",
     "traceback": [
      "\u001b[0;31m---------------------------------------------------------------------------\u001b[0m",
      "\u001b[0;31mKeyError\u001b[0m                                  Traceback (most recent call last)",
      "\u001b[0;32m<ipython-input-27-83cf8eaac54d>\u001b[0m in \u001b[0;36m<module>\u001b[0;34m()\u001b[0m\n\u001b[0;32m----> 1\u001b[0;31m \u001b[0mpunctuation_counts\u001b[0m\u001b[1;33m[\u001b[0m\u001b[1;34m\"!\"\u001b[0m\u001b[1;33m]\u001b[0m\u001b[1;33m\u001b[0m\u001b[0m\n\u001b[0m",
      "\u001b[0;31mKeyError\u001b[0m: '!'"
     ]
    }
   ],
   "source": [
    "punctuation_counts[\"!\"]"
   ]
  },
  {
   "cell_type": "code",
   "execution_count": null,
   "metadata": {
    "collapsed": true
   },
   "outputs": [],
   "source": []
  }
 ],
 "metadata": {
  "kernelspec": {
   "display_name": "Python 2",
   "language": "python",
   "name": "python2"
  },
  "language_info": {
   "codemirror_mode": {
    "name": "ipython",
    "version": 2
   },
   "file_extension": ".py",
   "mimetype": "text/x-python",
   "name": "python",
   "nbconvert_exporter": "python",
   "pygments_lexer": "ipython2",
   "version": "2.7.13"
  }
 },
 "nbformat": 4,
 "nbformat_minor": 2
}
